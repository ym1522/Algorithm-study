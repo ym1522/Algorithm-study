{
 "cells": [
  {
   "cell_type": "code",
   "execution_count": 20,
   "id": "83573879",
   "metadata": {},
   "outputs": [
    {
     "name": "stdout",
     "output_type": "stream",
     "text": [
      "5\n",
      "    *\n",
      "   ***\n",
      "  *****\n",
      " *******\n",
      "*********\n"
     ]
    }
   ],
   "source": [
    "n = int(input())\n",
    "space = list(range(n,0,-1))\n",
    "star = list(range(1,n*2,2))\n",
    "\n",
    "for i in range(n):\n",
    "    print(' '*(space[i]-1), end='')\n",
    "    print('*'*star[i])"
   ]
  }
 ],
 "metadata": {
  "kernelspec": {
   "display_name": "Python 3 (ipykernel)",
   "language": "python",
   "name": "python3"
  },
  "language_info": {
   "codemirror_mode": {
    "name": "ipython",
    "version": 3
   },
   "file_extension": ".py",
   "mimetype": "text/x-python",
   "name": "python",
   "nbconvert_exporter": "python",
   "pygments_lexer": "ipython3",
   "version": "3.9.12"
  }
 },
 "nbformat": 4,
 "nbformat_minor": 5
}
