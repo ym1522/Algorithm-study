{
 "cells": [
  {
   "cell_type": "code",
   "execution_count": null,
   "id": "4941a61e",
   "metadata": {},
   "outputs": [],
   "source": [
    "# 3255_codingmasters_sol1\n",
    "\n",
    "size = list(map(int, input().split()))\n",
    "a = []\n",
    "b = []\n",
    "\n",
    "for i in range(size[0]):\n",
    "    a_insert = list(map(str, input().split()))\n",
    "    a.append(a_insert)\n",
    "\n",
    "for i in range(size[0]):\n",
    "    b_insert = list(map(str, input().split()))\n",
    "    b.append(b_insert)\n",
    "\n",
    "c = a.copy()\n",
    "\n",
    "for i in range(size[0]):\n",
    "    for j in range(size[1]):\n",
    "        if a[i][j] == b[i][j]:\n",
    "            c[i][j] = a[i][j]\n",
    "        if (a[i][j] == 'R' and b[i][j] == 'G') or (a[i][j] == 'G' and b[i][j] == 'R'):\n",
    "            c[i][j] = 'Y'\n",
    "        if (a[i][j] == 'G' and b[i][j] == 'B') or (a[i][j] == 'B' and b[i][j] == 'G'):\n",
    "            c[i][j] = 'C'\n",
    "        if (a[i][j] == 'B' and b[i][j] == 'R') or (a[i][j] == 'R' and b[i][j] == 'B'):\n",
    "            c[i][j] = 'M'\n",
    "\n",
    "for i in range(size[0]):\n",
    "    for j in range(size[1]):\n",
    "        print(f'{c[i][j]}', end = ' ')\n",
    "    print()\n",
    "            "
   ]
  },
  {
   "cell_type": "code",
   "execution_count": 11,
   "id": "4d1129a3",
   "metadata": {},
   "outputs": [
    {
     "name": "stdout",
     "output_type": "stream",
     "text": [
      "3 3\n",
      "R R R\n",
      "G G G\n",
      "B B B\n",
      "B B B\n",
      "G G G\n",
      "R R R\n",
      "M M M \n",
      "G G G \n",
      "M M M \n"
     ]
    }
   ],
   "source": [
    "# 3255_codingmasters_sol2\n",
    "\n",
    "size = list(map(int, input().split()))\n",
    "a = []\n",
    "b = []\n",
    "\n",
    "for i in range(size[0]):\n",
    "    a_insert = list(map(str, input().split()))\n",
    "    a.append(a_insert)\n",
    "\n",
    "for i in range(size[0]):\n",
    "    b_insert = list(map(str, input().split()))\n",
    "    b.append(b_insert)\n",
    "\n",
    "c = a.copy()\n",
    "\n",
    "for i in range(size[0]):\n",
    "    for j in range(size[1]):\n",
    "        if a[i][j] == b[i][j]:\n",
    "            c[i][j] = a[i][j]\n",
    "        if (ord(a[i][j]) + ord(b[i][j])) == ord('R') + ord('G'):\n",
    "            c[i][j] = 'Y'\n",
    "        if (ord(a[i][j]) + ord(b[i][j])) == ord('G') + ord('B'):\n",
    "            c[i][j] = 'C'\n",
    "        if (ord(a[i][j]) + ord(b[i][j])) == ord('B') + ord('R'):\n",
    "            c[i][j] = 'M'\n",
    "\n",
    "for i in range(size[0]):\n",
    "    for j in range(size[1]):\n",
    "        print(f'{c[i][j]}', end = ' ')\n",
    "    print()"
   ]
  },
  {
   "cell_type": "raw",
   "id": "c55544b2",
   "metadata": {},
   "source": []
  }
 ],
 "metadata": {
  "kernelspec": {
   "display_name": "Python 3 (ipykernel)",
   "language": "python",
   "name": "python3"
  },
  "language_info": {
   "codemirror_mode": {
    "name": "ipython",
    "version": 3
   },
   "file_extension": ".py",
   "mimetype": "text/x-python",
   "name": "python",
   "nbconvert_exporter": "python",
   "pygments_lexer": "ipython3",
   "version": "3.9.12"
  }
 },
 "nbformat": 4,
 "nbformat_minor": 5
}
