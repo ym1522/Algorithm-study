{
 "cells": [
  {
   "cell_type": "code",
   "execution_count": 25,
   "id": "a7df5a48",
   "metadata": {},
   "outputs": [
    {
     "name": "stdout",
     "output_type": "stream",
     "text": [
      "1000.9999s\n",
      "1.0s\n",
      "PYTHON\n"
     ]
    }
   ],
   "source": [
    "j = input()\n",
    "p = input()\n",
    "j_time = float(j[:-1])\n",
    "p_time = float(p[:-1])\n",
    "\n",
    "if j_time == p_time:\n",
    "    print('JAVA')\n",
    "\n",
    "if j_time > p_time:\n",
    "    print('PYTHON')\n",
    "\n",
    "if j_time < p_time:\n",
    "    print('JAVA')"
   ]
  },
  {
   "cell_type": "code",
   "execution_count": null,
   "id": "46753cd1",
   "metadata": {},
   "outputs": [],
   "source": []
  }
 ],
 "metadata": {
  "kernelspec": {
   "display_name": "Python 3 (ipykernel)",
   "language": "python",
   "name": "python3"
  },
  "language_info": {
   "codemirror_mode": {
    "name": "ipython",
    "version": 3
   },
   "file_extension": ".py",
   "mimetype": "text/x-python",
   "name": "python",
   "nbconvert_exporter": "python",
   "pygments_lexer": "ipython3",
   "version": "3.9.12"
  }
 },
 "nbformat": 4,
 "nbformat_minor": 5
}
