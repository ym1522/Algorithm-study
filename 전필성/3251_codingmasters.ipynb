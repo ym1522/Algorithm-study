{
 "cells": [
  {
   "cell_type": "code",
   "execution_count": 1,
   "id": "2a46aff5",
   "metadata": {},
   "outputs": [
    {
     "name": "stdout",
     "output_type": "stream",
     "text": [
      "50 40 40 40 40\n",
      "F\n"
     ]
    }
   ],
   "source": [
    "def test(point):\n",
    "  for i in point:\n",
    "    if i < 40:\n",
    "      return -1\n",
    "  return 1\n",
    "\n",
    "point = list(map(int, input().split()))\n",
    "avg = sum(point) / len(point)\n",
    "resurt = test(point)\n",
    "\n",
    "if resurt == -1 :\n",
    "  print('F')\n",
    "\n",
    "else :\n",
    "  if avg >= 60:\n",
    "    print('P')\n",
    "  else :\n",
    "    print('F')\n"
   ]
  },
  {
   "cell_type": "code",
   "execution_count": null,
   "id": "1add346a",
   "metadata": {},
   "outputs": [],
   "source": []
  }
 ],
 "metadata": {
  "kernelspec": {
   "display_name": "Python 3 (ipykernel)",
   "language": "python",
   "name": "python3"
  },
  "language_info": {
   "codemirror_mode": {
    "name": "ipython",
    "version": 3
   },
   "file_extension": ".py",
   "mimetype": "text/x-python",
   "name": "python",
   "nbconvert_exporter": "python",
   "pygments_lexer": "ipython3",
   "version": "3.9.12"
  }
 },
 "nbformat": 4,
 "nbformat_minor": 5
}
