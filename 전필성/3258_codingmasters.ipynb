{
 "cells": [
  {
   "cell_type": "code",
   "execution_count": 6,
   "id": "849d7311",
   "metadata": {},
   "outputs": [
    {
     "name": "stdout",
     "output_type": "stream",
     "text": [
      "3\n",
      "3 1\n",
      "3 3\n",
      "1 2\n",
      "1 2\n"
     ]
    }
   ],
   "source": [
    "n = int(input())\n",
    "count_a = 0\n",
    "count_b = 0\n",
    "for i in range(n):\n",
    "    a, b = map(int, input().split())\n",
    "    if (a + b == 4) and (a > b) :\n",
    "        count_b += 1\n",
    "    if (a + b == 4) and (a < b) :\n",
    "        count_a += 1\n",
    "    if not(a + b == 4) and (a > b) :\n",
    "        count_a += 1\n",
    "    if not(a + b == 4) and (a < b) :\n",
    "        count_b += 1\n",
    "\n",
    "print(f'{count_a} {count_b}')"
   ]
  },
  {
   "cell_type": "code",
   "execution_count": null,
   "id": "21f3e83c",
   "metadata": {},
   "outputs": [],
   "source": []
  }
 ],
 "metadata": {
  "kernelspec": {
   "display_name": "Python 3 (ipykernel)",
   "language": "python",
   "name": "python3"
  },
  "language_info": {
   "codemirror_mode": {
    "name": "ipython",
    "version": 3
   },
   "file_extension": ".py",
   "mimetype": "text/x-python",
   "name": "python",
   "nbconvert_exporter": "python",
   "pygments_lexer": "ipython3",
   "version": "3.9.12"
  }
 },
 "nbformat": 4,
 "nbformat_minor": 5
}
