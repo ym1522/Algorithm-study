{
 "cells": [
  {
   "cell_type": "code",
   "execution_count": null,
   "id": "97bd0fdd",
   "metadata": {},
   "outputs": [],
   "source": [
    "Month = int(input())\n",
    "Day = int(input())\n",
    "\n",
    "if Month > 2:\n",
    "        print('After')\n",
    "        \n",
    "elif Month == 2:\n",
    "    if Day > 18:\n",
    "        print('After')\n",
    "    elif Day == 18:\n",
    "         print('Special')\n",
    "    else:\n",
    "        print('Before')\n",
    "                \n",
    "else :\n",
    "    print('Before')\n",
    "    "
   ]
  }
 ],
 "metadata": {
  "kernelspec": {
   "display_name": "Python 3 (ipykernel)",
   "language": "python",
   "name": "python3"
  },
  "language_info": {
   "codemirror_mode": {
    "name": "ipython",
    "version": 3
   },
   "file_extension": ".py",
   "mimetype": "text/x-python",
   "name": "python",
   "nbconvert_exporter": "python",
   "pygments_lexer": "ipython3",
   "version": "3.9.12"
  }
 },
 "nbformat": 4,
 "nbformat_minor": 5
}
