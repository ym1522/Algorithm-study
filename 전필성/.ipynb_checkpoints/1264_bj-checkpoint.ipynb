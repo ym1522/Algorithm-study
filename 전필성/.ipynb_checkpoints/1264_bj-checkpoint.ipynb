{
 "cells": [
  {
   "cell_type": "code",
   "execution_count": null,
   "id": "479c5eeb",
   "metadata": {},
   "outputs": [
    {
     "name": "stdout",
     "output_type": "stream",
     "text": [
      "How are you today?\n",
      "7\n",
      "I live at number twenty four.\n",
      "9\n"
     ]
    }
   ],
   "source": [
    "while True:\n",
    "    n = input()\n",
    "    if n == '#':\n",
    "        break\n",
    "    cnt = 0\n",
    "    for i in n:\n",
    "        if i in 'aeiouAEIOU':\n",
    "            cnt += 1\n",
    "    print(cnt)"
   ]
  },
  {
   "cell_type": "code",
   "execution_count": null,
   "id": "f3090638",
   "metadata": {},
   "outputs": [],
   "source": []
  }
 ],
 "metadata": {
  "kernelspec": {
   "display_name": "Python 3 (ipykernel)",
   "language": "python",
   "name": "python3"
  },
  "language_info": {
   "codemirror_mode": {
    "name": "ipython",
    "version": 3
   },
   "file_extension": ".py",
   "mimetype": "text/x-python",
   "name": "python",
   "nbconvert_exporter": "python",
   "pygments_lexer": "ipython3",
   "version": "3.9.12"
  }
 },
 "nbformat": 4,
 "nbformat_minor": 5
}
