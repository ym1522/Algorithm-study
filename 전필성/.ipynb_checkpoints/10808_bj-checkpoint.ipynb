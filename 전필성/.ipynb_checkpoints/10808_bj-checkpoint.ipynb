{
 "cells": [
  {
   "cell_type": "code",
   "execution_count": 2,
   "id": "6d6c0777",
   "metadata": {},
   "outputs": [
    {
     "name": "stdout",
     "output_type": "stream",
     "text": [
      "vniowjefo\n",
      "0 0 0 0 1 1 0 0 1 1 0 0 0 1 2 0 0 0 0 0 0 1 1 0 0 0 "
     ]
    }
   ],
   "source": [
    "s = input()\n",
    "s_sorted = ''.join(sorted(s))\n",
    "text = 'abcdefghijklmnopqrstuvwxyz'\n",
    "cnt = 0\n",
    "\n",
    "for i in range(len(text)):\n",
    "  for j in range(len(s_sorted)):\n",
    "    if text[i] == s_sorted[j]:\n",
    "      cnt += 1\n",
    "  print(f'{cnt}',end=' ')\n",
    "  cnt = 0"
   ]
  },
  {
   "cell_type": "code",
   "execution_count": null,
   "id": "86ef99b3",
   "metadata": {},
   "outputs": [],
   "source": []
  }
 ],
 "metadata": {
  "kernelspec": {
   "display_name": "Python 3 (ipykernel)",
   "language": "python",
   "name": "python3"
  },
  "language_info": {
   "codemirror_mode": {
    "name": "ipython",
    "version": 3
   },
   "file_extension": ".py",
   "mimetype": "text/x-python",
   "name": "python",
   "nbconvert_exporter": "python",
   "pygments_lexer": "ipython3",
   "version": "3.9.12"
  }
 },
 "nbformat": 4,
 "nbformat_minor": 5
}
