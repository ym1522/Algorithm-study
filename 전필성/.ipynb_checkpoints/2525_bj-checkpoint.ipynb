{
 "cells": [
  {
   "cell_type": "code",
   "execution_count": 12,
   "id": "7e8ea6d7",
   "metadata": {},
   "outputs": [
    {
     "name": "stdout",
     "output_type": "stream",
     "text": [
      "23 50\n",
      "80\n",
      "1 10\n"
     ]
    }
   ],
   "source": [
    "h,m = map(int, input().split())\n",
    "timer = int(input())\n",
    "\n",
    "h += timer // 60\n",
    "m += timer % 60\n",
    "\n",
    "if m >= 60:\n",
    "    h += 1\n",
    "    m -= 60\n",
    "\n",
    "if h >= 24:\n",
    "    h -= 24\n",
    "\n",
    "print(h,m)"
   ]
  },
  {
   "cell_type": "code",
   "execution_count": null,
   "id": "f6e3486a",
   "metadata": {},
   "outputs": [],
   "source": []
  }
 ],
 "metadata": {
  "kernelspec": {
   "display_name": "Python 3 (ipykernel)",
   "language": "python",
   "name": "python3"
  },
  "language_info": {
   "codemirror_mode": {
    "name": "ipython",
    "version": 3
   },
   "file_extension": ".py",
   "mimetype": "text/x-python",
   "name": "python",
   "nbconvert_exporter": "python",
   "pygments_lexer": "ipython3",
   "version": "3.9.12"
  }
 },
 "nbformat": 4,
 "nbformat_minor": 5
}
