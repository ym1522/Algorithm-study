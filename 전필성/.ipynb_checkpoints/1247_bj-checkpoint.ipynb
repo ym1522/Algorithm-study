{
 "cells": [
  {
   "cell_type": "code",
   "execution_count": null,
   "id": "fd1329a2",
   "metadata": {},
   "outputs": [
    {
     "name": "stdout",
     "output_type": "stream",
     "text": [
      "1\n",
      "1\n",
      "+\n"
     ]
    }
   ],
   "source": [
    "\n",
    "\n",
    "for _ in range(3):\n",
    "    n = int(input())\n",
    "    li = [int(input()) for i in range(n)]\n",
    "    if sum(li) == 0:\n",
    "        print('0')\n",
    "    elif sum(li) > 0:\n",
    "        print('+')\n",
    "    else:\n",
    "        print('-')"
   ]
  },
  {
   "cell_type": "code",
   "execution_count": null,
   "id": "ea416f4f",
   "metadata": {},
   "outputs": [],
   "source": []
  }
 ],
 "metadata": {
  "kernelspec": {
   "display_name": "Python 3 (ipykernel)",
   "language": "python",
   "name": "python3"
  },
  "language_info": {
   "codemirror_mode": {
    "name": "ipython",
    "version": 3
   },
   "file_extension": ".py",
   "mimetype": "text/x-python",
   "name": "python",
   "nbconvert_exporter": "python",
   "pygments_lexer": "ipython3",
   "version": "3.9.12"
  }
 },
 "nbformat": 4,
 "nbformat_minor": 5
}
