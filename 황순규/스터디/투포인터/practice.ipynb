{
 "cells": [
  {
   "cell_type": "code",
   "execution_count": 24,
   "metadata": {},
   "outputs": [
    {
     "name": "stdout",
     "output_type": "stream",
     "text": [
      "0 0\n",
      "0 1\n",
      "0 2\n",
      "1 1\n",
      "1 2\n",
      "1 3\n",
      "2 2\n",
      "2 3\n",
      "2 4\n",
      "3 3\n",
      "3 4\n",
      "4 4\n",
      "4 5\n",
      "3\n"
     ]
    }
   ],
   "source": [
    "n = 5 # 데이터의 개수 N\n",
    "m = 5 # 찾고자 하는 부분합 M\n",
    "data = [1, 2, 3, 2, 5] # 전체 수열\n",
    "\n",
    "count = 0\n",
    "interval_sum = 0\n",
    "end = 0\n",
    "\n",
    "# start를 차례대로 증가시키며 반복\n",
    "for start in range(n):\n",
    "    # end를 가능한 만큼 이동시키기\n",
    "    while interval_sum < m and end < n:\n",
    "        interval_sum += data[end]\n",
    "        end += 1\n",
    "    # 부분합이 m일 때 카운트 증가\n",
    "    if interval_sum == m:\n",
    "        count += 1\n",
    "    interval_sum -= data[start]\n",
    "\n",
    "print(count)"
   ]
  },
  {
   "cell_type": "code",
   "execution_count": null,
   "metadata": {},
   "outputs": [],
   "source": [
    "a = [1,2,3,2,5]\n",
    "\n",
    "k = 5\n",
    "cnt = 0\n",
    "s, e = 0, 0\n",
    "\n",
    "while True:\n",
    "    if s > len(a) - 1 and e > len(a)-1:\n",
    "        break\n",
    "    temp = sum(a[s:e+1])\n",
    "    print(s, e)\n",
    "    if temp > k or s > len(a)-1 or e> len(a)-1:\n",
    "        s += 1\n",
    "        e = s\n",
    "    elif temp == k:\n",
    "        cnt += 1\n",
    "        e += 1\n",
    "    else:\n",
    "        e += 1\n",
    "\n",
    "print(cnt)"
   ]
  }
 ],
 "metadata": {
  "kernelspec": {
   "display_name": "Python 3.9.13 64-bit",
   "language": "python",
   "name": "python3"
  },
  "language_info": {
   "codemirror_mode": {
    "name": "ipython",
    "version": 3
   },
   "file_extension": ".py",
   "mimetype": "text/x-python",
   "name": "python",
   "nbconvert_exporter": "python",
   "pygments_lexer": "ipython3",
   "version": "3.9.13"
  },
  "orig_nbformat": 4,
  "vscode": {
   "interpreter": {
    "hash": "cf92aa13fedf815d5c8dd192b8d835913fde3e8bc926b2a0ad6cc74ef2ba3ca2"
   }
  }
 },
 "nbformat": 4,
 "nbformat_minor": 2
}
