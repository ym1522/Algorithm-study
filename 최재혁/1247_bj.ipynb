{
 "cells": [
  {
   "cell_type": "code",
   "execution_count": 8,
   "id": "3ae80df1-d835-4162-8cd3-b4b89c5d86cc",
   "metadata": {},
   "outputs": [],
   "source": [
    "from sys import stdin"
   ]
  },
  {
   "cell_type": "code",
   "execution_count": 13,
   "id": "54936217",
   "metadata": {
    "tags": []
   },
   "outputs": [
    {
     "name": "stdin",
     "output_type": "stream",
     "text": [
      " 3\n",
      " 0\n",
      " 0\n",
      " 0\n"
     ]
    },
    {
     "name": "stdout",
     "output_type": "stream",
     "text": [
      "0\n"
     ]
    },
    {
     "name": "stdin",
     "output_type": "stream",
     "text": [
      " 10\n",
      " 1\n",
      " 2\n",
      " 4\n",
      " 8\n",
      " 16\n",
      " 32\n",
      " 64\n",
      " 128\n",
      " 256\n",
      " -512\n"
     ]
    },
    {
     "name": "stdout",
     "output_type": "stream",
     "text": [
      "-\n"
     ]
    },
    {
     "name": "stdin",
     "output_type": "stream",
     "text": [
      " 6\n",
      " 9223372036854775807\n",
      " 9223372036854775806\n",
      " 9223372036854775805\n",
      " -9223372036854775807\n",
      " -9223372036854775806\n",
      " -9223372036854775804\n"
     ]
    },
    {
     "name": "stdout",
     "output_type": "stream",
     "text": [
      "+\n"
     ]
    }
   ],
   "source": [
    "for i in range(1,4):\n",
    "    S=0\n",
    "    N=int(input())\n",
    "    for i in range(1,N+1):\n",
    "        x=int(input())\n",
    "        S+=x\n",
    "    if S == 0:\n",
    "        print('0')\n",
    "    elif S>0:\n",
    "        print('+')\n",
    "    else:\n",
    "        print('-')"
   ]
  }
 ],
 "metadata": {
  "kernelspec": {
   "display_name": "Python 3",
   "language": "python",
   "name": "python3"
  },
  "language_info": {
   "codemirror_mode": {
    "name": "ipython",
    "version": 3
   },
   "file_extension": ".py",
   "mimetype": "text/x-python",
   "name": "python",
   "nbconvert_exporter": "python",
   "pygments_lexer": "ipython3",
   "version": "3.8.8"
  }
 },
 "nbformat": 4,
 "nbformat_minor": 5
}
